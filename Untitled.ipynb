{
 "cells": [
  {
   "cell_type": "code",
   "execution_count": 2,
   "id": "2b04eaad",
   "metadata": {},
   "outputs": [],
   "source": [
    "import random\n",
    "from sentence_transformers import SentenceTransformer\n",
    "from sklearn.metrics.pairwise import cosine_similarity\n",
    "import pandas as pd"
   ]
  },
  {
   "cell_type": "code",
   "execution_count": 5,
   "id": "b6300f14",
   "metadata": {},
   "outputs": [],
   "source": [
    "model = SentenceTransformer('jhgan/ko-sroberta-multitask')"
   ]
  },
  {
   "cell_type": "code",
   "execution_count": 4,
   "id": "f54373c7",
   "metadata": {},
   "outputs": [],
   "source": [
    "df = pd.read_csv('ChatbotData.csv')"
   ]
  },
  {
   "cell_type": "code",
   "execution_count": 6,
   "id": "f1b93049",
   "metadata": {},
   "outputs": [],
   "source": [
    "df_embeding = pd.read_csv('embeding.csv', header=None)"
   ]
  },
  {
   "cell_type": "code",
   "execution_count": 55,
   "id": "4268090f",
   "metadata": {},
   "outputs": [],
   "source": [
    "def chat_ai(text):\n",
    "    model = SentenceTransformer('jhgan/ko-sroberta-multitask')\n",
    "    df = pd.read_csv('ChatbotData.csv')\n",
    "    df_embeding = pd.read_csv('embeding.csv', header=None)\n",
    "    \n",
    "    em_result = model.encode(text)\n",
    "    co_result = []\n",
    "\n",
    "    for tmp in range(len(df_embeding)):\n",
    "        data = df_embeding.iloc[tmp]\n",
    "        co_result.append(cosine_similarity([em_result],[data])[0][0])\n",
    "        \n",
    "    r = random.randint(0,5)\n",
    "    df['cos'] = co_result\n",
    "    df_result = df.sort_values('cos', ascending=False)\n",
    "    result = print(df_result.iloc[r]['A'])\n",
    "    return result \n",
    "\n",
    "\n"
   ]
  },
  {
   "cell_type": "code",
   "execution_count": 60,
   "id": "ef6e73b7",
   "metadata": {},
   "outputs": [
    {
     "name": "stdout",
     "output_type": "stream",
     "text": [
      "가끔은 힘내지 말고 내려놔봐요.\n"
     ]
    }
   ],
   "source": [
    "chat_ai('살기가 힘들어요')"
   ]
  },
  {
   "cell_type": "code",
   "execution_count": 50,
   "id": "5fdeaafa",
   "metadata": {},
   "outputs": [
    {
     "data": {
      "text/plain": [
       "0"
      ]
     },
     "execution_count": 50,
     "metadata": {},
     "output_type": "execute_result"
    }
   ],
   "source": []
  },
  {
   "cell_type": "code",
   "execution_count": null,
   "id": "980e52f4",
   "metadata": {},
   "outputs": [],
   "source": []
  },
  {
   "cell_type": "code",
   "execution_count": null,
   "id": "14839be1",
   "metadata": {},
   "outputs": [],
   "source": []
  },
  {
   "cell_type": "code",
   "execution_count": null,
   "id": "f5479bec",
   "metadata": {},
   "outputs": [],
   "source": []
  },
  {
   "cell_type": "code",
   "execution_count": null,
   "id": "b269aabb",
   "metadata": {},
   "outputs": [],
   "source": []
  },
  {
   "cell_type": "code",
   "execution_count": null,
   "id": "f9c63bbd",
   "metadata": {},
   "outputs": [],
   "source": []
  },
  {
   "cell_type": "code",
   "execution_count": null,
   "id": "286003c3",
   "metadata": {},
   "outputs": [],
   "source": []
  },
  {
   "cell_type": "code",
   "execution_count": null,
   "id": "e1c0a49d",
   "metadata": {},
   "outputs": [],
   "source": []
  }
 ],
 "metadata": {
  "kernelspec": {
   "display_name": "main",
   "language": "python",
   "name": "main"
  },
  "language_info": {
   "codemirror_mode": {
    "name": "ipython",
    "version": 3
   },
   "file_extension": ".py",
   "mimetype": "text/x-python",
   "name": "python",
   "nbconvert_exporter": "python",
   "pygments_lexer": "ipython3",
   "version": "3.9.12"
  }
 },
 "nbformat": 4,
 "nbformat_minor": 5
}
